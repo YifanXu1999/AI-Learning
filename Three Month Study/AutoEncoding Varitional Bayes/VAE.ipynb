{
 "cells": [
  {
   "cell_type": "code",
   "execution_count": 2,
   "metadata": {},
   "outputs": [],
   "source": [
    "import matplotlib.pyplot as plt\n",
    "import numpy as np\n",
    "import torch\n",
    "import torch.nn as nn\n",
    "import torch.nn.functional as F\n",
    "import torchvision.transforms as transforms\n",
    "\n",
    "from scipy.stats import norm\n",
    "from torch.utils.data.dataloader import DataLoader\n",
    "from torchvision.datasets import MNIST\n",
    "from torchvision.utils import make_grid\n",
    "\n",
    "class VAE(nn.Module):\n",
    "    def __init__(self, latent_dim=20, hidden_dim=500):\n",
    "        super(VAE, self).__init__()\n",
    "        self.encoder_l1 = nn.Linear(784, hidden_dim)\n",
    "        self.encoder_mean = nn.Linear(hidden_dim, latent_dim)\n",
    "        self.encoder_logvar = nn.Linear(hidden_dim, latent_dim)\n",
    "        self.decoder_l1 = nn.Linear(latent_dim, hidden_dim)\n",
    "        self.decoder_output = nn.Linear(hidden_dim, 784)\n",
    "\n",
    "    def encode(self, x_in):\n",
    "        x = F.relu(self.encoder_l1(x_in.view(-1, 784)))\n",
    "        mean = self.encoder_mean(x)\n",
    "        logvar = self.encoder_logvar(x)\n",
    "        return mean, logvar\n",
    "    \n",
    "    def decode(self, z):\n",
    "        z = F.relu(self.decoder_l1(z))\n",
    "        x_out = F.sigmoid(self.decoder_output(z))\n",
    "        return x_out.view(-1, 1, 28, 28)\n",
    "    \n",
    "    def sample(self, mu, log_var):\n",
    "        # z = mu + standard deviavation * eps\n",
    "        eps = torch.normal(torch.zeros(size=mu.size()), torch.ones(size=log_var.size()))\n",
    "        sd = torch.exp(log_var * 0.5)\n",
    "        z = mu + sd * eps\n",
    "        return z\n",
    "    def forward(self, x_in):\n",
    "        z_mean, z_logvar = self.encode(x_in)\n",
    "        z = self.sample(z_mean, z_logvar)\n",
    "        x_out = self.decode(z)\n",
    "        return x_out, z_mean, z_logvar"
   ]
  },
  {
   "cell_type": "code",
   "execution_count": 3,
   "metadata": {},
   "outputs": [],
   "source": [
    "\n",
    "# Loss function\n",
    "def criterion(x_out,x_in,z_mu,z_logvar):\n",
    "    bce_loss = F.binary_cross_entropy(x_out,x_in,size_average=False)\n",
    "    kld_loss = -0.5 * torch.sum(1 + z_logvar - (z_mu ** 2) - torch.exp(z_logvar))\n",
    "    loss = (bce_loss + kld_loss) / x_out.size(0) # normalize by batch size\n",
    "    return loss"
   ]
  },
  {
   "cell_type": "code",
   "execution_count": 4,
   "metadata": {},
   "outputs": [],
   "source": [
    "model = VAE()\n",
    "# Optimizer\n",
    "optimizer = torch.optim.Adam(model.parameters())"
   ]
  },
  {
   "cell_type": "code",
   "execution_count": 5,
   "metadata": {},
   "outputs": [],
   "source": [
    "# Data loaders\n",
    "trainloader = DataLoader(\n",
    "    MNIST(root='./data',train=True,download=True,transform=transforms.ToTensor()),\n",
    "    batch_size=128,shuffle=True)\n",
    "testloader = DataLoader(\n",
    "    MNIST(root='./data',train=False,download=True,transform=transforms.ToTensor()),\n",
    "    batch_size=128,shuffle=True)"
   ]
  },
  {
   "cell_type": "code",
   "execution_count": null,
   "metadata": {},
   "outputs": [],
   "source": [
    "\n",
    "# Training\n",
    "def train(model,optimizer,dataloader,epochs=15):\n",
    "    losses = []\n",
    "    for epoch in range(epochs):\n",
    "        print(epochs)\n",
    "        for images,_ in dataloader:\n",
    "            x_in = (images)\n",
    "            optimizer.zero_grad()\n",
    "            x_out, z_mu, z_logvar = model(x_in)\n",
    "            loss = criterion(x_out,x_in,z_mu,z_logvar)\n",
    "            loss.backward()\n",
    "            optimizer.step()\n",
    "            losses.append(loss.data)\n",
    "    return losses\n",
    "\n",
    "train_losses = train(model,optimizer,trainloader)\n",
    "plt.figure(figsize=(10,5))\n",
    "plt.plot(train_losses)\n",
    "plt.show()"
   ]
  },
  {
   "cell_type": "code",
   "execution_count": null,
   "metadata": {},
   "outputs": [],
   "source": [
    "t"
   ]
  }
 ],
 "metadata": {
  "kernelspec": {
   "display_name": "Python 3",
   "language": "python",
   "name": "python3"
  },
  "language_info": {
   "codemirror_mode": {
    "name": "ipython",
    "version": 3
   },
   "file_extension": ".py",
   "mimetype": "text/x-python",
   "name": "python",
   "nbconvert_exporter": "python",
   "pygments_lexer": "ipython3",
   "version": "3.7.4"
  }
 },
 "nbformat": 4,
 "nbformat_minor": 2
}
