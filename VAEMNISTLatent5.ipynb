{
  "nbformat": 4,
  "nbformat_minor": 0,
  "metadata": {
    "colab": {
      "name": "Copy of AutoEnocderMNIST 500",
      "provenance": [],
      "private_outputs": true,
      "collapsed_sections": [],
      "authorship_tag": "ABX9TyPo6kcf8TH3JwTL82z00/fk",
      "include_colab_link": true
    },
    "kernelspec": {
      "name": "python3",
      "display_name": "Python 3"
    },
    "accelerator": "GPU"
  },
  "cells": [
    {
      "cell_type": "markdown",
      "metadata": {
        "id": "view-in-github",
        "colab_type": "text"
      },
      "source": [
        "<a href=\"https://colab.research.google.com/github/YifanXu1999/AI-Learning/blob/master/VAEMNISTLatent5.ipynb\" target=\"_parent\"><img src=\"https://colab.research.google.com/assets/colab-badge.svg\" alt=\"Open In Colab\"/></a>"
      ]
    },
    {
      "cell_type": "code",
      "metadata": {
        "id": "AYcqzD3vx2EI",
        "colab_type": "code",
        "colab": {}
      },
      "source": [
        "import matplotlib.pyplot as plt\n",
        "import numpy as np\n",
        "import torch\n",
        "import torch.nn as nn\n",
        "import torch.nn.functional as F\n",
        "import torchvision.transforms as transforms\n",
        "\n",
        "from torch.utils.data.dataloader import DataLoader\n",
        "from torchvision.datasets import MNIST\n",
        "from torchvision.utils import make_grid\n",
        "!pip install tsne\n",
        "from tsne import bh_sne"
      ],
      "execution_count": 0,
      "outputs": []
    },
    {
      "cell_type": "code",
      "metadata": {
        "id": "X7jLTZJix7oM",
        "colab_type": "code",
        "colab": {}
      },
      "source": [
        "# Data loaders\n",
        "trainloader = DataLoader(\n",
        "    MNIST(root='./data',train=True,download=True,transform=transforms.ToTensor()),\n",
        "    batch_size=128,shuffle=True)\n",
        "testloader = DataLoader(\n",
        "    MNIST(root='./data',train=False,download=True,transform=transforms.ToTensor()),\n",
        "    batch_size=5000,shuffle=True)\n",
        "device = torch.device(\"cuda:0\")\n",
        "print(torch.cuda.device_count())"
      ],
      "execution_count": 0,
      "outputs": []
    },
    {
      "cell_type": "code",
      "metadata": {
        "id": "3ZXySfeox9Rc",
        "colab_type": "code",
        "colab": {}
      },
      "source": [
        "class VAE(nn.Module):\n",
        "    def __init__(self, latent_dim=5, hidden_dim=500):\n",
        "        super(VAE, self).__init__()\n",
        "        self.encoder_l1 = nn.Linear(784, hidden_dim)\n",
        "        self.encoder_mean = nn.Linear(hidden_dim, latent_dim)\n",
        "        self.encoder_logvar = nn.Linear(hidden_dim, latent_dim)\n",
        "        self.decoder_l1 = nn.Linear(latent_dim, hidden_dim)\n",
        "        self.decoder_output = nn.Linear(hidden_dim, 784)\n",
        "\n",
        "    def encode(self, x_in):\n",
        "        x = F.relu(self.encoder_l1(x_in.view(-1, 784)))\n",
        "        mean = self.encoder_mean(x)\n",
        "        logvar = self.encoder_logvar(x)\n",
        "        return mean, logvar\n",
        "    \n",
        "    def decode(self, z):\n",
        "        z = F.relu(self.decoder_l1(z))\n",
        "        x_out = torch.sigmoid(self.decoder_output(z))\n",
        "        return x_out.view(-1, 1, 28, 28)\n",
        "    \n",
        "    def sample(self, mu, log_var):\n",
        "        # z = mu + standard deviavation * eps\n",
        "        eps = torch.normal(torch.zeros(size=mu.size()), torch.ones(size=log_var.size())).cuda()\n",
        "        sd = torch.exp(log_var * 0.5)\n",
        "        z = mu + sd * eps\n",
        "        return z\n",
        "\n",
        "    def forward(self, x_in):\n",
        "        z_mean, z_logvar = self.encode(x_in)\n",
        "        z = self.sample(z_mean, z_logvar)\n",
        "        x_out = self.decode(z)\n",
        "        return x_out, z_mean, z_logvar"
      ],
      "execution_count": 0,
      "outputs": []
    },
    {
      "cell_type": "code",
      "metadata": {
        "id": "k3gjp168yCtx",
        "colab_type": "code",
        "colab": {}
      },
      "source": [
        "# Loss function\n",
        "def criterion(x_out, x_in, z_mu, z_logvar):\n",
        "    # ELBO = -DK(q(z|x)|| p(z)) + logp_theta(x|z)\n",
        "    #      = 1/2(1 + log(var) - mu ^2 - var) +  logp_theta(x|z)\n",
        "    bce_loss = F.binary_cross_entropy(x_out,x_in, reduction='sum')\n",
        "    kld_loss = -0.5 * torch.sum(1 + z_logvar - (z_mu ** 2) - torch.exp(z_logvar))\n",
        "    kld_loss = 0\n",
        "    loss = (bce_loss + kld_loss) / x_out.size(0) # normalize by batch size\n",
        "    return loss"
      ],
      "execution_count": 0,
      "outputs": []
    },
    {
      "cell_type": "code",
      "metadata": {
        "id": "Uxx9qhf7y2xp",
        "colab_type": "code",
        "colab": {}
      },
      "source": [
        "def remove_imgs(imgs, labels, digits_to_remove):\n",
        "  list_imgs = list(imgs)\n",
        "  new_imgs_list = torch.tensor([])\n",
        "  new_labels = []\n",
        "  for i in range(len(list_imgs)):\n",
        "    if labels[i] not in digits_to_remove:\n",
        "      new_imgs_list = torch.cat([new_imgs_list, list_imgs[i]], 0)\n",
        "      new_labels.append(labels[i])\n",
        "  return  new_imgs_list.view(-1, 1, 28 ,28), new_labels"
      ],
      "execution_count": 0,
      "outputs": []
    },
    {
      "cell_type": "code",
      "metadata": {
        "id": "bUl2jj2HyEi1",
        "colab_type": "code",
        "colab": {}
      },
      "source": [
        "# Training\n",
        "def train(model,optimizer,dataloader,epochs=4):\n",
        "    losses = []\n",
        "    for epoch in range(epochs):\n",
        "        for images, labels in dataloader:\n",
        "            x_in = images.cuda()\n",
        "            optimizer.zero_grad()\n",
        "            x_out, z_mu, z_logvar = model(x_in)\n",
        "            loss = criterion(x_out,x_in,z_mu,z_logvar)\n",
        "            loss.backward()\n",
        "            optimizer.step()\n",
        "            losses.append(loss.cpu().data.numpy())\n",
        "    print(\"done\")\n",
        "\n",
        "    return losses"
      ],
      "execution_count": 0,
      "outputs": []
    },
    {
      "cell_type": "code",
      "metadata": {
        "id": "QY4CYk8ZyHlj",
        "colab_type": "code",
        "colab": {}
      },
      "source": [
        "model = VAE().to(device)\n",
        "# Optimizer\n",
        "optimizer = torch.optim.Adam(model.parameters(), lr=1e-3)\n",
        "train_losses = train(model,optimizer,trainloader)\n",
        "plt.figure(figsize=(10,5))\n",
        "plt.plot(train_losses)\n",
        "plt.show()"
      ],
      "execution_count": 0,
      "outputs": []
    },
    {
      "cell_type": "code",
      "metadata": {
        "id": "udRK2xjWyLGq",
        "colab_type": "code",
        "colab": {}
      },
      "source": [
        "def imshow(img):\n",
        "    npimg = img.cpu().numpy()\n",
        "    \n",
        "    plt.imshow(np.transpose(npimg,(1,2,0)))\n",
        "    plt.axis('off')\n",
        "    plt.show()\n",
        "\n",
        "imgs, label = iter(testloader).next()\n",
        "\n",
        "def add_noise(x, noise_factor=0.2):\n",
        "    x = x + np.random.randn(*x.shape) * noise_factor\n",
        "    x = x.clip(0., 1.)\n",
        "    return x\n",
        "def visualize(images, label, model):\n",
        "  x_in = images\n",
        "  x_out,_, _ = model(x_in.view(-1, 28 * 28))\n",
        "  x_out = x_out.data\n",
        "  z_mu, z_logvar = model.encode(x_in)\n",
        "  z = model.sample(z_mu, z_logvar )\n",
        "  imshow(make_grid(x_in[0:16]))\n",
        "  imshow(make_grid(x_out[0:16]))\n",
        "  return z.cpu().data.numpy()"
      ],
      "execution_count": 0,
      "outputs": []
    },
    {
      "cell_type": "code",
      "metadata": {
        "id": "K2343KexzZRZ",
        "colab_type": "code",
        "colab": {}
      },
      "source": [
        "imgs, labels = iter(testloader).next()\n",
        "z = visualize(imgs.cuda(), label, model)"
      ],
      "execution_count": 0,
      "outputs": []
    },
    {
      "cell_type": "code",
      "metadata": {
        "id": "eiGDfJqSAGfP",
        "colab_type": "code",
        "colab": {}
      },
      "source": [
        "z = bh_sne(np.float64(z))"
      ],
      "execution_count": 0,
      "outputs": []
    },
    {
      "cell_type": "code",
      "metadata": {
        "id": "o3ayeSoPLysI",
        "colab_type": "code",
        "colab": {}
      },
      "source": [
        "plt.scatter(z[:, 0], z[:, 1], c=labels)\n",
        "plt.colorbar()"
      ],
      "execution_count": 0,
      "outputs": []
    },
    {
      "cell_type": "code",
      "metadata": {
        "id": "TnZReGnaMTgN",
        "colab_type": "code",
        "colab": {}
      },
      "source": [
        ""
      ],
      "execution_count": 0,
      "outputs": []
    }
  ]
}